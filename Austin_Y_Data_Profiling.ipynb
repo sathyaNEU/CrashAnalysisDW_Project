{
 "cells": [
  {
   "cell_type": "code",
   "execution_count": 1,
   "id": "31f455fb-82ec-4d78-9372-0654d0540de1",
   "metadata": {},
   "outputs": [
    {
     "name": "stderr",
     "output_type": "stream",
     "text": [
      "c:\\Users\\Sathya\\AppData\\Local\\Programs\\Python\\Python311\\Lib\\site-packages\\tqdm\\auto.py:21: TqdmWarning: IProgress not found. Please update jupyter and ipywidgets. See https://ipywidgets.readthedocs.io/en/stable/user_install.html\n",
      "  from .autonotebook import tqdm as notebook_tqdm\n"
     ]
    }
   ],
   "source": [
    "from ydata_profiling import ProfileReport\n",
    "import pandas as pd"
   ]
  },
  {
   "cell_type": "code",
   "execution_count": 3,
   "id": "efc7284a-a6a3-470f-bbe3-55be8b64a792",
   "metadata": {},
   "outputs": [
    {
     "name": "stderr",
     "output_type": "stream",
     "text": [
      "C:\\Users\\Sathya\\AppData\\Local\\Temp\\ipykernel_25564\\1866718353.py:1: DtypeWarning: Columns (7,53) have mixed types. Specify dtype option on import or set low_memory=False.\n",
      "  df = pd.read_csv(\"D:/All Tracks/DOC/SATHYA/NEU/SEM2/DADABI/Final_Project_Artifacts/Austin_Crash_Report_Data_-_Crash_Level_Records_20240326.tsv\",sep='\\t')\n"
     ]
    }
   ],
   "source": [
    "df = pd.read_csv(\"D:/All Tracks/DOC/SATHYA/NEU/SEM2/DADABI/Final_Project_Artifacts/Austin_Crash_Report_Data_-_Crash_Level_Records_20240326.tsv\",sep='\\t')"
   ]
  },
  {
   "cell_type": "code",
   "execution_count": 5,
   "id": "5996503c-0ab7-4ded-ba58-fe719083a4e8",
   "metadata": {},
   "outputs": [
    {
     "name": "stderr",
     "output_type": "stream",
     "text": [
      "Summarize dataset:   0%|          | 0/5 [00:00<?, ?it/s]"
     ]
    },
    {
     "name": "stderr",
     "output_type": "stream",
     "text": [
      "Summarize dataset:  92%|█████████▏| 56/61 [01:32<00:23,  4.69s/it, Calculate auto correlation]                          c:\\Users\\Sathya\\AppData\\Local\\Programs\\Python\\Python311\\Lib\\site-packages\\ydata_profiling\\model\\correlations.py:66: UserWarning: There was an attempt to calculate the auto correlation, but this failed.\n",
      "To hide this warning, disable the calculation\n",
      "(using `df.profile_report(correlations={\"auto\": {\"calculate\": False}})`\n",
      "If this is problematic for your use case, please report this as an issue:\n",
      "https://github.com/ydataai/ydata-profiling/issues\n",
      "(include the error message: 'could not convert string to float: 'N'')\n",
      "  warnings.warn(\n",
      "Summarize dataset:  99%|█████████▊| 348/353 [02:07<00:03,  1.54it/s, Missing diagram heatmap]                                                       c:\\Users\\Sathya\\AppData\\Local\\Programs\\Python\\Python311\\Lib\\site-packages\\seaborn\\matrix.py:260: FutureWarning: Format strings passed to MaskedConstant are ignored, but in future may error or produce different behavior\n",
      "  annotation = (\"{:\" + self.fmt + \"}\").format(val)\n",
      "c:\\Users\\Sathya\\AppData\\Local\\Programs\\Python\\Python311\\Lib\\site-packages\\ydata_profiling\\model\\missing.py:78: UserWarning: There was an attempt to generate the Heatmap missing values diagrams, but this failed.\n",
      "To hide this warning, disable the calculation\n",
      "(using `df.profile_report(missing_diagrams={\"Heatmap\": False}`)\n",
      "If this is problematic for your use case, please report this as an issue:\n",
      "https://github.com/ydataai/ydata-profiling/issues\n",
      "(include the error message: 'could not convert string to float: '--'')\n",
      "  warnings.warn(\n",
      "Summarize dataset: 100%|██████████| 353/353 [02:09<00:00,  2.73it/s, Completed]               \n",
      "Generate report structure: 100%|██████████| 1/1 [00:13<00:00, 13.55s/it]\n",
      "Render HTML: 100%|██████████| 1/1 [00:06<00:00,  6.17s/it]\n",
      "Export report to file: 100%|██████████| 1/1 [00:00<00:00, 14.37it/s]\n"
     ]
    }
   ],
   "source": [
    "profile = ProfileReport(df, title='Austin',explorative=True)\n",
    "profile.to_file('D:/All Tracks/DOC/SATHYA/NEU/SEM2/DADABI/Final_Project_Artifacts/austin_crash_report.html')"
   ]
  },
  {
   "cell_type": "code",
   "execution_count": null,
   "id": "fcb8e892-fecc-4002-b77c-d0eccd14909a",
   "metadata": {},
   "outputs": [],
   "source": []
  }
 ],
 "metadata": {
  "kernelspec": {
   "display_name": "Python 3 (ipykernel)",
   "language": "python",
   "name": "python3"
  },
  "language_info": {
   "codemirror_mode": {
    "name": "ipython",
    "version": 3
   },
   "file_extension": ".py",
   "mimetype": "text/x-python",
   "name": "python",
   "nbconvert_exporter": "python",
   "pygments_lexer": "ipython3",
   "version": "3.11.7"
  }
 },
 "nbformat": 4,
 "nbformat_minor": 5
}
