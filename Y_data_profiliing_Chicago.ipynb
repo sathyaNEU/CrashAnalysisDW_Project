{
 "cells": [
  {
   "cell_type": "code",
   "execution_count": 1,
   "id": "7d78233b-1b40-41dd-9c09-ac2f921ce2c3",
   "metadata": {},
   "outputs": [
    {
     "name": "stderr",
     "output_type": "stream",
     "text": [
      "c:\\Users\\Sathya\\AppData\\Local\\Programs\\Python\\Python311\\Lib\\site-packages\\tqdm\\auto.py:21: TqdmWarning: IProgress not found. Please update jupyter and ipywidgets. See https://ipywidgets.readthedocs.io/en/stable/user_install.html\n",
      "  from .autonotebook import tqdm as notebook_tqdm\n"
     ]
    }
   ],
   "source": [
    "from ydata_profiling import ProfileReport\n",
    "import pandas as pd"
   ]
  },
  {
   "cell_type": "code",
   "execution_count": 2,
   "id": "49e3daa7-48f5-408f-8d63-aca898c6791c",
   "metadata": {},
   "outputs": [],
   "source": [
    "df = pd.read_csv('D:/All Tracks/DOC/SATHYA/NEU/SEM2/DADABI/Final_Project_Artifacts/Chicago_Traffic_Crashes_-_Crashes_20240326.tsv',sep='\\t')\n"
   ]
  },
  {
   "cell_type": "code",
   "execution_count": 3,
   "id": "7499715b-90c3-4d2f-b466-7e695cc83561",
   "metadata": {},
   "outputs": [
    {
     "name": "stderr",
     "output_type": "stream",
     "text": [
      "Summarize dataset:  91%|█████████ | 50/55 [16:44<09:16, 111.29s/it, Calculate auto correlation]                    c:\\Users\\Sathya\\AppData\\Local\\Programs\\Python\\Python311\\Lib\\site-packages\\ydata_profiling\\model\\correlations.py:66: UserWarning: There was an attempt to calculate the auto correlation, but this failed.\n",
      "To hide this warning, disable the calculation\n",
      "(using `df.profile_report(correlations={\"auto\": {\"calculate\": False}})`\n",
      "If this is problematic for your use case, please report this as an issue:\n",
      "https://github.com/ydataai/ydata-profiling/issues\n",
      "(include the error message: 'could not convert string to float: 'STRAIGHT AND LEVEL'')\n",
      "  warnings.warn(\n",
      "Summarize dataset:  98%|█████████▊| 278/283 [17:32<00:11,  2.22s/it, Missing diagram heatmap]                                             c:\\Users\\Sathya\\AppData\\Local\\Programs\\Python\\Python311\\Lib\\site-packages\\seaborn\\matrix.py:260: FutureWarning: Format strings passed to MaskedConstant are ignored, but in future may error or produce different behavior\n",
      "  annotation = (\"{:\" + self.fmt + \"}\").format(val)\n",
      "c:\\Users\\Sathya\\AppData\\Local\\Programs\\Python\\Python311\\Lib\\site-packages\\ydata_profiling\\model\\missing.py:78: UserWarning: There was an attempt to generate the Heatmap missing values diagrams, but this failed.\n",
      "To hide this warning, disable the calculation\n",
      "(using `df.profile_report(missing_diagrams={\"Heatmap\": False}`)\n",
      "If this is problematic for your use case, please report this as an issue:\n",
      "https://github.com/ydataai/ydata-profiling/issues\n",
      "(include the error message: 'could not convert string to float: '--'')\n",
      "  warnings.warn(\n",
      "Summarize dataset: 100%|██████████| 283/283 [17:37<00:00,  3.74s/it, Completed]               \n",
      "Generate report structure: 100%|██████████| 1/1 [00:10<00:00, 10.94s/it]\n",
      "Render HTML: 100%|██████████| 1/1 [00:04<00:00,  4.54s/it]\n",
      "Export report to file: 100%|██████████| 1/1 [00:00<00:00, 15.67it/s]\n"
     ]
    }
   ],
   "source": [
    "profile = ProfileReport(df, title='Chicago',explorative=True)\n",
    "profile.to_file('D:/All Tracks/DOC/SATHYA/NEU/SEM2/DADABI/Final_Project_Artifacts/chicago_crash_report.html')"
   ]
  },
  {
   "cell_type": "code",
   "execution_count": null,
   "id": "13d50bd4-0859-42b7-9bdc-39eba34465eb",
   "metadata": {},
   "outputs": [],
   "source": []
  }
 ],
 "metadata": {
  "kernelspec": {
   "display_name": "Python 3 (ipykernel)",
   "language": "python",
   "name": "python3"
  },
  "language_info": {
   "codemirror_mode": {
    "name": "ipython",
    "version": 3
   },
   "file_extension": ".py",
   "mimetype": "text/x-python",
   "name": "python",
   "nbconvert_exporter": "python",
   "pygments_lexer": "ipython3",
   "version": "3.11.7"
  }
 },
 "nbformat": 4,
 "nbformat_minor": 5
}
