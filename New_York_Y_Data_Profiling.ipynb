{
 "cells": [
  {
   "cell_type": "code",
   "execution_count": 1,
   "id": "5187b2b1-da85-4e7d-b7c4-977b710abc5a",
   "metadata": {},
   "outputs": [
    {
     "name": "stderr",
     "output_type": "stream",
     "text": [
      "c:\\Users\\Sathya\\AppData\\Local\\Programs\\Python\\Python311\\Lib\\site-packages\\tqdm\\auto.py:21: TqdmWarning: IProgress not found. Please update jupyter and ipywidgets. See https://ipywidgets.readthedocs.io/en/stable/user_install.html\n",
      "  from .autonotebook import tqdm as notebook_tqdm\n"
     ]
    }
   ],
   "source": [
    "from ydata_profiling import ProfileReport\n",
    "import pandas as pd"
   ]
  },
  {
   "cell_type": "code",
   "execution_count": 2,
   "id": "45440b6b-d969-4ddd-a9a3-c47eadabf040",
   "metadata": {},
   "outputs": [
    {
     "name": "stderr",
     "output_type": "stream",
     "text": [
      "C:\\Users\\Sathya\\AppData\\Local\\Temp\\ipykernel_16936\\283318292.py:1: DtypeWarning: Columns (3) have mixed types. Specify dtype option on import or set low_memory=False.\n",
      "  df = pd.read_csv(\"D:/All Tracks/DOC/SATHYA/NEU/SEM2/DADABI/Final_Project_Artifacts/NY_Motor_Vehicle_Collisions_-_Crashes_20240326.tsv\",sep='\\t')\n"
     ]
    }
   ],
   "source": [
    "df = pd.read_csv(\"D:/All Tracks/DOC/SATHYA/NEU/SEM2/DADABI/Final_Project_Artifacts/NY_Motor_Vehicle_Collisions_-_Crashes_20240326.tsv\",sep='\\t')"
   ]
  },
  {
   "cell_type": "code",
   "execution_count": 5,
   "id": "4cd8808c-bf5a-444b-a7c7-a2f9a273a1d4",
   "metadata": {},
   "outputs": [
    {
     "name": "stderr",
     "output_type": "stream",
     "text": [
      "Summarize dataset:  86%|████████▌ | 31/36 [01:33<00:09,  1.99s/it, Calculate auto correlation]                     c:\\Users\\Sathya\\AppData\\Local\\Programs\\Python\\Python311\\Lib\\site-packages\\ydata_profiling\\model\\correlations.py:66: UserWarning: There was an attempt to calculate the auto correlation, but this failed.\n",
      "To hide this warning, disable the calculation\n",
      "(using `df.profile_report(correlations={\"auto\": {\"calculate\": False}})`\n",
      "If this is problematic for your use case, please report this as an issue:\n",
      "https://github.com/ydataai/ydata-profiling/issues\n",
      "(include the error message: 'could not convert string to float: 'BROOKLYN'')\n",
      "  warnings.warn(\n",
      "Summarize dataset:  95%|█████████▌| 98/103 [02:21<00:22,  4.46s/it, Missing diagram heatmap]                                             c:\\Users\\Sathya\\AppData\\Local\\Programs\\Python\\Python311\\Lib\\site-packages\\seaborn\\matrix.py:260: FutureWarning: Format strings passed to MaskedConstant are ignored, but in future may error or produce different behavior\n",
      "  annotation = (\"{:\" + self.fmt + \"}\").format(val)\n",
      "c:\\Users\\Sathya\\AppData\\Local\\Programs\\Python\\Python311\\Lib\\site-packages\\ydata_profiling\\model\\missing.py:78: UserWarning: There was an attempt to generate the Heatmap missing values diagrams, but this failed.\n",
      "To hide this warning, disable the calculation\n",
      "(using `df.profile_report(missing_diagrams={\"Heatmap\": False}`)\n",
      "If this is problematic for your use case, please report this as an issue:\n",
      "https://github.com/ydataai/ydata-profiling/issues\n",
      "(include the error message: 'could not convert string to float: '--'')\n",
      "  warnings.warn(\n",
      "Summarize dataset: 100%|██████████| 103/103 [02:34<00:00,  1.50s/it, Completed]               \n",
      "Generate report structure: 100%|██████████| 1/1 [00:15<00:00, 15.47s/it]\n",
      "Render HTML: 100%|██████████| 1/1 [00:03<00:00,  3.23s/it]\n",
      "Export report to file: 100%|██████████| 1/1 [00:00<00:00, 20.82it/s]\n"
     ]
    }
   ],
   "source": [
    "profile = ProfileReport(df, title='New York', explorative=True)\n",
    "profile.to_file('D:/All Tracks/DOC/SATHYA/NEU/SEM2/DADABI/Final_Project_Artifacts/new_york_crash_data.html')"
   ]
  },
  {
   "cell_type": "code",
   "execution_count": null,
   "id": "ee9bcff8-7a6e-4fae-840c-d84421229e03",
   "metadata": {},
   "outputs": [],
   "source": []
  }
 ],
 "metadata": {
  "kernelspec": {
   "display_name": "Python 3 (ipykernel)",
   "language": "python",
   "name": "python3"
  },
  "language_info": {
   "codemirror_mode": {
    "name": "ipython",
    "version": 3
   },
   "file_extension": ".py",
   "mimetype": "text/x-python",
   "name": "python",
   "nbconvert_exporter": "python",
   "pygments_lexer": "ipython3",
   "version": "3.11.7"
  }
 },
 "nbformat": 4,
 "nbformat_minor": 5
}
